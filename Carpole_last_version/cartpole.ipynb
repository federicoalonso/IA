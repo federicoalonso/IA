{
 "cells": [
  {
   "cell_type": "code",
   "execution_count": null,
   "id": "9f1c3938",
   "metadata": {},
   "outputs": [],
   "source": [
    "#!pip install gym\n",
    "#!pip install pygame"
   ]
  },
  {
   "cell_type": "code",
   "execution_count": 1,
   "id": "e4231adb",
   "metadata": {},
   "outputs": [],
   "source": [
    "import gym\n",
    "import numpy as np"
   ]
  },
  {
   "cell_type": "code",
   "execution_count": 2,
   "id": "a39e4569",
   "metadata": {},
   "outputs": [],
   "source": [
    "env = gym.make('CartPole-v1', render_mode='human')"
   ]
  },
  {
   "cell_type": "code",
   "execution_count": 3,
   "id": "4a591fcb",
   "metadata": {},
   "outputs": [],
   "source": [
    "def epsilon_greedy_policy(state, Q, epsilon=0.1):\n",
    "    explore = np.random.binomial(1, epsilon)\n",
    "    if explore:\n",
    "        action = env.action_space.sample()\n",
    "        print('explore')\n",
    "    else:\n",
    "        action = np.argmax(Q[state])\n",
    "        print('exploit')\n",
    "    return action"
   ]
  },
  {
   "cell_type": "code",
   "execution_count": 4,
   "id": "92a08789",
   "metadata": {},
   "outputs": [],
   "source": [
    "def optimal_policy(state, Q):\n",
    "    action = np.argmax(Q[state])\n",
    "    return action"
   ]
  },
  {
   "cell_type": "code",
   "execution_count": 5,
   "id": "00564955",
   "metadata": {},
   "outputs": [
    {
     "data": {
      "text/plain": [
       "array([-1.e-06,  1.e+02])"
      ]
     },
     "execution_count": 5,
     "metadata": {},
     "output_type": "execute_result"
    }
   ],
   "source": [
    "bins = np.linspace(-0.000001, 100., 2)\n",
    "bins"
   ]
  },
  {
   "cell_type": "code",
   "execution_count": 6,
   "id": "345c50b5",
   "metadata": {},
   "outputs": [],
   "source": [
    "def get_state(obs):\n",
    "    d = np.digitize(obs, bins)\n",
    "    state = tuple(d)\n",
    "    return state"
   ]
  },
  {
   "cell_type": "code",
   "execution_count": 7,
   "id": "17e0564c",
   "metadata": {},
   "outputs": [
    {
     "data": {
      "text/plain": [
       "(0, 0, 1, 1)"
      ]
     },
     "execution_count": 7,
     "metadata": {},
     "output_type": "execute_result"
    }
   ],
   "source": [
    "state = get_state(np.array([-1.4, -2., 0.23, 1.2]))\n",
    "state"
   ]
  },
  {
   "cell_type": "code",
   "execution_count": 8,
   "id": "9ea75fdc",
   "metadata": {},
   "outputs": [
    {
     "data": {
      "text/plain": [
       "array([[[[[0.31476072, 0.19956056],\n",
       "          [0.47793227, 0.15548624]],\n",
       "\n",
       "         [[0.4867365 , 0.61111695],\n",
       "          [0.2568281 , 0.50649214]]],\n",
       "\n",
       "\n",
       "        [[[0.7148789 , 0.53508648],\n",
       "          [0.32645208, 0.25970681]],\n",
       "\n",
       "         [[0.35499329, 0.6444892 ],\n",
       "          [0.86946716, 0.88015813]]]],\n",
       "\n",
       "\n",
       "\n",
       "       [[[[0.59498046, 0.01235932],\n",
       "          [0.95448547, 0.45129908]],\n",
       "\n",
       "         [[0.0858123 , 0.87761156],\n",
       "          [0.96263835, 0.492098  ]]],\n",
       "\n",
       "\n",
       "        [[[0.51308354, 0.71286953],\n",
       "          [0.33384059, 0.37896812]],\n",
       "\n",
       "         [[0.6301944 , 0.72135008],\n",
       "          [0.77047255, 0.10523372]]]]])"
      ]
     },
     "execution_count": 8,
     "metadata": {},
     "output_type": "execute_result"
    }
   ],
   "source": [
    "Q = np.random.random((2,2,2,2,2))\n",
    "Q"
   ]
  },
  {
   "cell_type": "code",
   "execution_count": 9,
   "id": "5ffb00ba",
   "metadata": {},
   "outputs": [
    {
     "name": "stdout",
     "output_type": "stream",
     "text": [
      "[ 0.03107319 -0.02544639  0.00567179  0.03583372]\n",
      "exploit\n",
      "-> (1, 0, 1, 1) 0 1.0 [ 0.03056426 -0.22064921  0.00638846  0.33030075] False False\n",
      "exploit\n",
      "-> (1, 0, 1, 1) 0 1.0 [ 0.02615128 -0.41586152  0.01299448  0.6249914 ] False False\n",
      "explore\n",
      "-> (1, 0, 1, 1) 1 1.0 [ 0.01783405 -0.22092336  0.02549431  0.33642915] False False\n",
      "explore\n",
      "-> (1, 0, 1, 1) 0 1.0 [ 0.01341558 -0.41639867  0.03222289  0.63704133] False False\n",
      "explore\n",
      "-> (1, 0, 1, 1) 1 1.0 [ 0.00508761 -0.22174054  0.04496372  0.35467762] False False\n",
      "explore\n",
      "-> (1, 0, 1, 1) 1 1.0 [ 0.00065279 -0.0272858   0.05205727  0.07650519] False False\n",
      "explore\n",
      "-> (1, 0, 1, 1) 1 1.0 [ 1.0707854e-04  1.6705272e-01  5.3587373e-02 -1.9930977e-01] False False\n",
      "explore\n",
      "-> (1, 1, 1, 0) 0 1.0 [ 0.00344813 -0.0287931   0.04960118  0.10978442] False False\n",
      "explore\n",
      "-> (1, 0, 1, 1) 0 1.0 [ 0.00287227 -0.22458944  0.05179686  0.41769448] False False\n",
      "explore\n",
      "-> (1, 0, 1, 1) 1 1.0 [-0.00161952 -0.03023831  0.06015075  0.14178024] False False\n",
      "exploit\n",
      "-> (0, 0, 1, 1) 1 1.0 [-0.00222428  0.1639729   0.06298636 -0.13133606] False False\n",
      "explore\n",
      "-> (0, 1, 1, 0) 0 1.0 [ 0.00105517 -0.03199211  0.06035964  0.1805343 ] False False\n",
      "explore\n",
      "-> (1, 0, 1, 1) 0 1.0 [ 4.1533148e-04 -2.2792353e-01  6.3970327e-02  4.9163118e-01] False False\n",
      "explore\n",
      "-> (1, 0, 1, 1) 0 1.0 [-0.00414314 -0.42388672  0.07380295  0.8037692 ] False False\n",
      "explore\n",
      "-> (0, 0, 1, 1) 0 1.0 [-0.01262087 -0.6199388   0.08987833  1.1187252 ] False False\n",
      "exploit\n",
      "-> (0, 0, 1, 1) 1 1.0 [-0.02501965 -0.4261036   0.11225283  0.85553455] False False\n",
      "exploit\n",
      "-> (0, 0, 1, 1) 1 1.0 [-0.03354172 -0.23267563  0.12936352  0.6001518 ] False False\n",
      "exploit\n",
      "-> (0, 0, 1, 1) 1 1.0 [-0.03819523 -0.0395781   0.14136656  0.35085258] False False\n",
      "explore\n",
      "-> (0, 0, 1, 1) 1 1.0 [-0.03898679  0.15328012  0.14838362  0.10587454] False False\n",
      "exploit\n",
      "-> (0, 1, 1, 1) 1 1.0 [-0.03592119  0.34599856  0.1505011  -0.13656165] False False\n",
      "explore\n",
      "-> (0, 1, 1, 0) 0 1.0 [-0.02900122  0.14907728  0.14776987  0.19956176] False False\n",
      "explore\n",
      "-> (0, 1, 1, 1) 0 1.0 [-0.02601968 -0.04781517  0.1517611   0.5349682 ] False False\n",
      "exploit\n",
      "-> (0, 0, 1, 1) 1 1.0 [-0.02697598  0.14488353  0.16246048  0.29368907] False False\n",
      "explore\n",
      "-> (0, 1, 1, 1) 0 1.0 [-0.02407831 -0.0521368   0.16833425  0.63288164] False False\n",
      "exploit\n",
      "-> (0, 0, 1, 1) 1 1.0 [-0.02512105  0.1402866   0.18099189  0.39758322] False False\n",
      "explore\n",
      "-> (0, 1, 1, 1) 0 1.0 [-0.02231531 -0.05687951  0.18894355  0.7414231 ] False False\n",
      "explore\n",
      "-> (0, 0, 1, 1) 1 1.0 [-0.0234529   0.13520166  0.20377201  0.51364845] False False\n",
      "explore\n",
      "-> (0, 1, 1, 1) 1 1.0 [-0.02074887  0.32695895  0.21404497  0.29145885] True False\n"
     ]
    },
    {
     "ename": "",
     "evalue": "",
     "output_type": "error",
     "traceback": [
      "\u001b[1;31mEl Kernel se bloqueó al ejecutar código en la celda actual o en una celda anterior. Revise el código de las celdas para identificar una posible causa del error. Haga clic <a href='https://aka.ms/vscodeJupyterKernelCrash'>aquí</a> para obtener más información. Vea el [registro] de Jupyter (command:jupyter.viewOutput) para obtener más detalles."
     ]
    }
   ],
   "source": [
    "obs, _ = env.reset()\n",
    "print(obs)\n",
    "done = False\n",
    "while not done:\n",
    "    state = get_state(obs)\n",
    "    action = epsilon_greedy_policy(state, Q, 0.5)\n",
    "    obs, reward, done, info, _ = env.step(action)\n",
    "    print('->', state, action, reward, obs, done, info)\n",
    "env.close()"
   ]
  },
  {
   "cell_type": "code",
   "execution_count": null,
   "id": "c1b033ba",
   "metadata": {},
   "outputs": [],
   "source": [
    "\n"
   ]
  }
 ],
 "metadata": {
  "kernelspec": {
   "display_name": "Python 3.10.6 64-bit",
   "language": "python",
   "name": "python3"
  },
  "language_info": {
   "codemirror_mode": {
    "name": "ipython",
    "version": 3
   },
   "file_extension": ".py",
   "mimetype": "text/x-python",
   "name": "python",
   "nbconvert_exporter": "python",
   "pygments_lexer": "ipython3",
   "version": "3.10.6"
  },
  "vscode": {
   "interpreter": {
    "hash": "916dbcbb3f70747c44a77c7bcd40155683ae19c65e1c03b4aa3499c5328201f1"
   }
  }
 },
 "nbformat": 4,
 "nbformat_minor": 5
}
